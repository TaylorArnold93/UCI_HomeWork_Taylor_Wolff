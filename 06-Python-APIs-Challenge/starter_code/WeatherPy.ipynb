{
 "cells": [
  {
   "cell_type": "markdown",
   "metadata": {},
   "source": [
    "# WeatherPy\n",
    "----\n",
    "\n",
    "#### Note\n",
    "* Instructions have been included for each segment. You do not have to follow them exactly, but they are included to help you think through the steps."
   ]
  },
  {
   "cell_type": "code",
   "execution_count": null,
   "metadata": {
    "scrolled": true
   },
   "outputs": [],
   "source": [
    "# pip install citipy"
   ]
  },
  {
   "cell_type": "code",
   "execution_count": 9,
   "metadata": {
    "scrolled": true
   },
   "outputs": [],
   "source": [
    "import matplotlib.pyplot as plt\n",
    "import pandas as pd\n",
    "import numpy as np\n",
    "import requests\n",
    "import time\n",
    "from scipy.stats import linregress\n",
    "\n",
    "# API Key \n",
    "from api_keys import weather_api_key\n",
    "\n",
    "# Importing the Citipy for Latitude and longitude\n",
    "from citipy import citipy\n",
    "\n",
    "# Output file \n",
    "Output_Data_File = \"../Output_Data_File/cities.csv\"\n",
    "\n",
    "# Defining the Latitude and Longitude \n",
    "lat_range = (-90, 90)\n",
    "lng_range = (-180, 180)"
   ]
  },
  {
   "cell_type": "markdown",
   "metadata": {},
   "source": [
    "## Generate Cities List"
   ]
  },
  {
   "cell_type": "code",
   "execution_count": 10,
   "metadata": {},
   "outputs": [
    {
     "name": "stdout",
     "output_type": "stream",
     "text": [
      "606\n"
     ]
    }
   ],
   "source": [
    " # List for holding lat_lngs and cities\n",
    "lat_lngs = []\n",
    "cities = []\n",
    "\n",
    "# Creating a set of various Latitude and Longitude combinations\n",
    "lat = np.random.uniform(lat_range[0], lat_range[1], size=1500)\n",
    "lng = np.random.uniform(lat_range[0], lat_range[1], size=1500)\n",
    "lat_lngs = zip(lat, lng)\n",
    "\n",
    "# Identify nearest city for each lat, lng combination\n",
    "for lat_lng in lat_lngs:\n",
    "    city = citipy.nearest_city(lat_lng[0], lat_lng[1]).city_name\n",
    "    \n",
    "    # If the city is unique, then add it to a our cities list\n",
    "    if city not in cities:\n",
    "        cities.append(city)\n",
    "\n",
    "# Print the city count to confirm sufficient count\n",
    "print(len(cities))"
   ]
  },
  {
   "cell_type": "markdown",
   "metadata": {},
   "source": [
    "### Perform API Calls\n",
    "* Perform a weather check on each city using a series of successive API calls.\n",
    "* Include a print log of each city as it'sbeing processed (with the city number and city name).\n"
   ]
  },
  {
   "cell_type": "code",
   "execution_count": 11,
   "metadata": {
    "scrolled": true
   },
   "outputs": [
    {
     "name": "stdout",
     "output_type": "stream",
     "text": [
      "Beginning Data Retrieval\n",
      "------------------------\n",
      "City not found. Skipping... \n",
      "Processing Record 1 of set 1|hambantota\n",
      "Processing Record 2 of set 1|codrington\n",
      "Processing Record 3 of set 1|ushuaia\n",
      "City not found. Skipping... \n",
      "Processing Record 4 of set 1|cabedelo\n",
      "Processing Record 5 of set 1|yar-sale\n",
      "Processing Record 6 of set 1|maceio\n",
      "Processing Record 7 of set 1|kohlu\n",
      "Processing Record 8 of set 1|vila velha\n",
      "Processing Record 9 of set 1|sept-iles\n",
      "Processing Record 10 of set 1|cayenne\n",
      "Processing Record 11 of set 1|bredasdorp\n",
      "Processing Record 12 of set 1|ribeira grande\n",
      "Processing Record 13 of set 1|raahe\n",
      "Processing Record 14 of set 1|xai-xai\n",
      "Processing Record 15 of set 1|notodden\n",
      "Processing Record 16 of set 1|formosa\n",
      "Processing Record 17 of set 1|port alfred\n",
      "Processing Record 18 of set 1|saint leonard\n",
      "Processing Record 19 of set 1|kisangani\n",
      "Processing Record 20 of set 1|aksum\n",
      "Processing Record 21 of set 1|cape town\n",
      "Processing Record 22 of set 1|qusar\n",
      "Processing Record 23 of set 1|ostrovnoy\n",
      "Processing Record 24 of set 1|concepcion del uruguay\n",
      "Processing Record 25 of set 1|lebu\n",
      "Processing Record 26 of set 1|saldanha\n",
      "Processing Record 27 of set 1|scarborough\n",
      "Processing Record 28 of set 1|punta arenas\n",
      "Processing Record 29 of set 1|ikryanoye\n",
      "Processing Record 30 of set 1|atar\n",
      "Processing Record 31 of set 1|mongo\n",
      "Processing Record 32 of set 1|goderich\n",
      "Processing Record 33 of set 1|east london\n",
      "Processing Record 34 of set 1|ligatne\n",
      "Processing Record 35 of set 1|nizhniy odes\n",
      "Processing Record 36 of set 1|rorvik\n",
      "Processing Record 37 of set 1|touros\n",
      "City not found. Skipping... \n",
      "Processing Record 38 of set 1|saint george\n",
      "Processing Record 39 of set 1|hereford\n",
      "Processing Record 40 of set 1|agucadoura\n",
      "Processing Record 41 of set 1|nanortalik\n",
      "Processing Record 42 of set 1|salta\n",
      "Processing Record 43 of set 1|iskateley\n",
      "Processing Record 44 of set 1|sisimiut\n",
      "Processing Record 45 of set 1|inta\n",
      "Processing Record 46 of set 1|hermanus\n",
      "Processing Record 47 of set 1|busselton\n",
      "Processing Record 48 of set 1|porto belo\n",
      "Processing Record 49 of set 1|velasco ibarra\n",
      "Processing Record 50 of set 1|thunder bay\n",
      "Processing Record 1 of set 2|ust-ishim\n",
      "Processing Record 2 of set 2|pavlogradka\n",
      "Processing Record 3 of set 2|bambous virieux\n",
      "Processing Record 4 of set 2|muscat\n",
      "Processing Record 5 of set 2|buchanan\n",
      "Processing Record 6 of set 2|waldoboro\n",
      "Processing Record 7 of set 2|luderitz\n",
      "Processing Record 8 of set 2|tucuman\n",
      "Processing Record 9 of set 2|hof\n",
      "Processing Record 10 of set 2|jardim\n",
      "Processing Record 11 of set 2|upernavik\n",
      "Processing Record 12 of set 2|carnarvon\n",
      "Processing Record 13 of set 2|chuy\n",
      "City not found. Skipping... \n",
      "Processing Record 14 of set 2|camacha\n",
      "Processing Record 15 of set 2|tasiilaq\n",
      "Processing Record 16 of set 2|sao filipe\n",
      "Processing Record 17 of set 2|araouane\n",
      "Processing Record 18 of set 2|misratah\n",
      "Processing Record 19 of set 2|wattegama\n",
      "Processing Record 20 of set 2|margate\n",
      "Processing Record 21 of set 2|susangerd\n",
      "Processing Record 22 of set 2|sambava\n",
      "Processing Record 23 of set 2|seidu\n",
      "Processing Record 24 of set 2|chake chake\n",
      "Processing Record 25 of set 2|lagoa\n",
      "Processing Record 26 of set 2|koshki\n",
      "Processing Record 27 of set 2|ilulissat\n",
      "Processing Record 28 of set 2|ibirataia\n",
      "City not found. Skipping... \n",
      "Processing Record 29 of set 2|dnestrovsc\n",
      "Processing Record 30 of set 2|abaete\n",
      "Processing Record 31 of set 2|areosa\n",
      "City not found. Skipping... \n",
      "Processing Record 32 of set 2|chillicothe\n",
      "Processing Record 33 of set 2|camopi\n",
      "Processing Record 34 of set 2|saint-philippe\n",
      "City not found. Skipping... \n",
      "Processing Record 35 of set 2|salinas\n",
      "Processing Record 36 of set 2|dikson\n",
      "Processing Record 37 of set 2|longyearbyen\n",
      "Processing Record 38 of set 2|talen\n",
      "Processing Record 39 of set 2|torbay\n",
      "Processing Record 40 of set 2|narsaq\n",
      "Processing Record 41 of set 2|adavere\n",
      "Processing Record 42 of set 2|muzambinho\n",
      "Processing Record 43 of set 2|shahreza\n",
      "Processing Record 44 of set 2|black river\n",
      "Processing Record 45 of set 2|boyuibe\n",
      "Processing Record 46 of set 2|qaanaaq\n",
      "Processing Record 47 of set 2|laguna\n",
      "Processing Record 48 of set 2|ponta do sol\n",
      "Processing Record 49 of set 2|ancud\n",
      "Processing Record 50 of set 2|vardo\n",
      "Processing Record 1 of set 3|ilo\n",
      "Processing Record 2 of set 3|mutoko\n",
      "Processing Record 3 of set 3|arraial do cabo\n",
      "Processing Record 4 of set 3|clyde river\n",
      "Processing Record 5 of set 3|kabo\n",
      "Processing Record 6 of set 3|bengkulu\n",
      "Processing Record 7 of set 3|jiwani\n",
      "Processing Record 8 of set 3|saint-pierre\n",
      "Processing Record 9 of set 3|sandwick\n",
      "City not found. Skipping... \n",
      "Processing Record 10 of set 3|atkarsk\n",
      "Processing Record 11 of set 3|kangaatsiaq\n",
      "Processing Record 12 of set 3|khakhea\n",
      "Processing Record 13 of set 3|comodoro rivadavia\n",
      "Processing Record 14 of set 3|manyana\n",
      "Processing Record 15 of set 3|kasungu\n",
      "Processing Record 16 of set 3|hithadhoo\n",
      "Processing Record 17 of set 3|ziniare\n",
      "Processing Record 18 of set 3|mehamn\n",
      "City not found. Skipping... \n",
      "Processing Record 19 of set 3|cidreira\n",
      "Processing Record 20 of set 3|ascension\n",
      "Processing Record 21 of set 3|saint-joseph\n",
      "Processing Record 22 of set 3|pitimbu\n",
      "Processing Record 23 of set 3|quelimane\n",
      "Processing Record 24 of set 3|gijon\n",
      "Processing Record 25 of set 3|jutai\n",
      "Processing Record 26 of set 3|tabuk\n",
      "Processing Record 27 of set 3|wladyslawowo\n",
      "City not found. Skipping... \n",
      "Processing Record 28 of set 3|matagami\n",
      "Processing Record 29 of set 3|mochalishche\n",
      "Processing Record 30 of set 3|nuuk\n",
      "Processing Record 31 of set 3|faya\n",
      "City not found. Skipping... \n",
      "Processing Record 32 of set 3|barentu\n",
      "Processing Record 33 of set 3|victoria\n",
      "Processing Record 34 of set 3|thinadhoo\n",
      "Processing Record 35 of set 3|rundu\n",
      "Processing Record 36 of set 3|olafsvik\n",
      "Processing Record 37 of set 3|dingle\n",
      "Processing Record 38 of set 3|copiapo\n",
      "Processing Record 39 of set 3|baherden\n",
      "City not found. Skipping... \n",
      "City not found. Skipping... \n",
      "Processing Record 40 of set 3|kargopol\n",
      "Processing Record 41 of set 3|korla\n",
      "Processing Record 42 of set 3|vytegra\n",
      "Processing Record 43 of set 3|mount darwin\n",
      "Processing Record 44 of set 3|khash\n",
      "Processing Record 45 of set 3|raga\n",
      "Processing Record 46 of set 3|minab\n",
      "Processing Record 47 of set 3|gemona\n",
      "Processing Record 48 of set 3|matara\n",
      "Processing Record 49 of set 3|jamestown\n",
      "Processing Record 50 of set 3|lagos\n",
      "Processing Record 1 of set 4|bafoulabe\n",
      "City not found. Skipping... \n",
      "Processing Record 2 of set 4|necochea\n",
      "Processing Record 3 of set 4|kavaratti\n",
      "Processing Record 4 of set 4|lima\n",
      "Processing Record 5 of set 4|morondava\n",
      "Processing Record 6 of set 4|dragalina\n",
      "City not found. Skipping... \n",
      "Processing Record 7 of set 4|sinnamary\n",
      "Processing Record 8 of set 4|san rafael\n",
      "Processing Record 9 of set 4|tabas\n",
      "Processing Record 10 of set 4|anloga\n",
      "Processing Record 11 of set 4|cesky dub\n",
      "Processing Record 12 of set 4|chateaubelair\n",
      "Processing Record 13 of set 4|tashla\n",
      "Processing Record 14 of set 4|ngorongoro\n",
      "Processing Record 15 of set 4|ferrol\n",
      "Processing Record 16 of set 4|argostolion\n",
      "Processing Record 17 of set 4|kapoeta\n",
      "Processing Record 18 of set 4|baft\n",
      "Processing Record 19 of set 4|mar del plata\n",
      "Processing Record 20 of set 4|walvis bay\n",
      "Processing Record 21 of set 4|rocky mount\n",
      "Processing Record 22 of set 4|coruripe\n",
      "Processing Record 23 of set 4|taoudenni\n",
      "Processing Record 24 of set 4|souillac\n",
      "Processing Record 25 of set 4|wilmington\n",
      "Processing Record 26 of set 4|kikwit\n",
      "Processing Record 27 of set 4|bathsheba\n",
      "Processing Record 28 of set 4|mozarlandia\n",
      "Processing Record 29 of set 4|kommunar\n",
      "City not found. Skipping... \n",
      "Processing Record 30 of set 4|kupino\n",
      "Processing Record 31 of set 4|kamenka\n",
      "Processing Record 32 of set 4|brae\n",
      "Processing Record 33 of set 4|kendallville\n",
      "Processing Record 34 of set 4|krasnoarmeysk\n",
      "Processing Record 35 of set 4|ustka\n",
      "Processing Record 36 of set 4|doha\n",
      "Processing Record 37 of set 4|perevolotskiy\n",
      "Processing Record 38 of set 4|lafia\n",
      "Processing Record 39 of set 4|antofagasta\n",
      "Processing Record 40 of set 4|manhuacu\n",
      "Processing Record 41 of set 4|pangody\n",
      "Processing Record 42 of set 4|port elizabeth\n",
      "Processing Record 43 of set 4|mahebourg\n",
      "Processing Record 44 of set 4|divicani\n",
      "Processing Record 45 of set 4|plouzane\n",
      "City not found. Skipping... \n",
      "Processing Record 46 of set 4|marrakesh\n",
      "Processing Record 47 of set 4|namibe\n",
      "Processing Record 48 of set 4|raudeberg\n"
     ]
    },
    {
     "name": "stdout",
     "output_type": "stream",
     "text": [
      "Processing Record 49 of set 4|berlevag\n",
      "Processing Record 50 of set 4|mahajanga\n",
      "Processing Record 1 of set 5|adrar\n",
      "Processing Record 2 of set 5|san carlos de bariloche\n",
      "Processing Record 3 of set 5|toluviejo\n",
      "Processing Record 4 of set 5|kayerkan\n",
      "Processing Record 5 of set 5|sovetskiy\n",
      "City not found. Skipping... \n",
      "Processing Record 6 of set 5|kamakwie\n",
      "Processing Record 7 of set 5|skibbereen\n",
      "Processing Record 8 of set 5|abu dhabi\n",
      "Processing Record 9 of set 5|cadca\n",
      "Processing Record 10 of set 5|mocuba\n",
      "Processing Record 11 of set 5|santo antonio do ica\n",
      "Processing Record 12 of set 5|birjand\n",
      "City not found. Skipping... \n",
      "Processing Record 13 of set 5|jawhar\n",
      "Processing Record 14 of set 5|meulaboh\n",
      "Processing Record 15 of set 5|wana\n",
      "Processing Record 16 of set 5|santarem\n",
      "Processing Record 17 of set 5|kontagora\n",
      "Processing Record 18 of set 5|kinango\n",
      "Processing Record 19 of set 5|grand gaube\n",
      "Processing Record 20 of set 5|vallenar\n",
      "Processing Record 21 of set 5|kemijarvi\n",
      "Processing Record 22 of set 5|tselinnoye\n",
      "Processing Record 23 of set 5|camana\n",
      "Processing Record 24 of set 5|kalmunai\n",
      "Processing Record 25 of set 5|andijon\n",
      "Processing Record 26 of set 5|santa vitoria\n",
      "Processing Record 27 of set 5|dinguiraye\n",
      "City not found. Skipping... \n",
      "Processing Record 28 of set 5|sinjar\n",
      "Processing Record 29 of set 5|nova olimpia\n",
      "Processing Record 30 of set 5|buriti alegre\n",
      "Processing Record 31 of set 5|vila franca do campo\n",
      "Processing Record 32 of set 5|santiago del estero\n",
      "Processing Record 33 of set 5|sabzevar\n",
      "Processing Record 34 of set 5|maunabo\n",
      "Processing Record 35 of set 5|lahore\n",
      "Processing Record 36 of set 5|san cristobal\n",
      "Processing Record 37 of set 5|talnakh\n",
      "Processing Record 38 of set 5|georgetown\n",
      "Processing Record 39 of set 5|veseloyarsk\n",
      "Processing Record 40 of set 5|nzega\n",
      "Processing Record 41 of set 5|rochegda\n",
      "Processing Record 42 of set 5|punta alta\n",
      "Processing Record 43 of set 5|bhachau\n",
      "Processing Record 44 of set 5|kruisfontein\n",
      "Processing Record 45 of set 5|mancio lima\n",
      "Processing Record 46 of set 5|bantry\n",
      "Processing Record 47 of set 5|grindavik\n",
      "Processing Record 48 of set 5|roald\n",
      "Processing Record 49 of set 5|mount pleasant\n",
      "Processing Record 50 of set 5|shakawe\n",
      "City not found. Skipping... \n",
      "Processing Record 1 of set 6|qom\n",
      "Processing Record 2 of set 6|linz\n",
      "Processing Record 3 of set 6|santa isabel do rio negro\n",
      "Processing Record 4 of set 6|sebastian\n",
      "Processing Record 5 of set 6|sarakhs\n",
      "Processing Record 6 of set 6|ler\n",
      "Processing Record 7 of set 6|noyabrsk\n",
      "Processing Record 8 of set 6|havre-saint-pierre\n",
      "City not found. Skipping... \n",
      "Processing Record 9 of set 6|sao joao da barra\n",
      "Processing Record 10 of set 6|praia da vitoria\n",
      "Processing Record 11 of set 6|rawson\n",
      "City not found. Skipping... \n",
      "Processing Record 12 of set 6|maldonado\n",
      "Processing Record 13 of set 6|tukrah\n",
      "Processing Record 14 of set 6|valparaiso\n",
      "Processing Record 15 of set 6|saint anthony\n",
      "Processing Record 16 of set 6|la palma\n",
      "Processing Record 17 of set 6|darnah\n",
      "Processing Record 18 of set 6|port-cartier\n",
      "Processing Record 19 of set 6|zmeinogorsk\n",
      "Processing Record 20 of set 6|la macarena\n",
      "Processing Record 21 of set 6|tamandare\n",
      "Processing Record 22 of set 6|shubarshi\n",
      "Processing Record 23 of set 6|lakhdenpokhya\n",
      "Processing Record 24 of set 6|lasa\n",
      "Processing Record 25 of set 6|glens falls\n",
      "Processing Record 26 of set 6|zabid\n",
      "City not found. Skipping... \n",
      "Processing Record 27 of set 6|thompson\n",
      "Processing Record 28 of set 6|ziarat\n",
      "Processing Record 29 of set 6|tocopilla\n",
      "Processing Record 30 of set 6|bosaso\n",
      "Processing Record 31 of set 6|sorland\n",
      "Processing Record 32 of set 6|novo aripuana\n",
      "Processing Record 33 of set 6|saint-ambroise\n",
      "Processing Record 34 of set 6|hals\n",
      "Processing Record 35 of set 6|damaturu\n",
      "City not found. Skipping... \n",
      "Processing Record 36 of set 6|saryagash\n",
      "Processing Record 37 of set 6|ternovka\n",
      "Processing Record 38 of set 6|gilgit\n",
      "Processing Record 39 of set 6|caravelas\n",
      "Processing Record 40 of set 6|mongua\n",
      "Processing Record 41 of set 6|luanda\n",
      "Processing Record 42 of set 6|bud\n",
      "Processing Record 43 of set 6|saint-augustin\n",
      "Processing Record 44 of set 6|porosozero\n",
      "Processing Record 45 of set 6|loralai\n",
      "Processing Record 46 of set 6|ivanava\n",
      "Processing Record 47 of set 6|bubaque\n",
      "Processing Record 48 of set 6|gobabis\n",
      "Processing Record 49 of set 6|hofn\n",
      "Processing Record 50 of set 6|miraflores\n",
      "Processing Record 1 of set 7|opuwo\n",
      "City not found. Skipping... \n",
      "Processing Record 2 of set 7|najran\n",
      "Processing Record 3 of set 7|harer\n",
      "Processing Record 4 of set 7|quatre cocos\n",
      "Processing Record 5 of set 7|ocala\n",
      "Processing Record 6 of set 7|vestmannaeyjar\n",
      "Processing Record 7 of set 7|pisco\n",
      "Processing Record 8 of set 7|resistencia\n",
      "Processing Record 9 of set 7|timizart\n",
      "Processing Record 10 of set 7|northallerton\n",
      "Processing Record 11 of set 7|salalah\n",
      "Processing Record 12 of set 7|gao\n",
      "Processing Record 13 of set 7|yining\n",
      "Processing Record 14 of set 7|salihorsk\n",
      "City not found. Skipping... \n",
      "Processing Record 15 of set 7|coquimbo\n",
      "Processing Record 16 of set 7|taltal\n",
      "Processing Record 17 of set 7|snezhnogorsk\n",
      "Processing Record 18 of set 7|saint-marc\n",
      "Processing Record 19 of set 7|port-gentil\n",
      "City not found. Skipping... \n",
      "Processing Record 20 of set 7|ikongo\n",
      "Processing Record 21 of set 7|vila praia de ancora\n",
      "Processing Record 22 of set 7|kodino\n",
      "Processing Record 23 of set 7|kasangulu\n",
      "Processing Record 24 of set 7|altos del rosario\n",
      "Processing Record 25 of set 7|grand-santi\n",
      "Processing Record 26 of set 7|pemba\n",
      "Processing Record 27 of set 7|pointe michel\n",
      "City not found. Skipping... \n",
      "Processing Record 28 of set 7|cherkasskoye\n",
      "Processing Record 29 of set 7|murmashi\n",
      "Processing Record 30 of set 7|sidi ali\n",
      "Processing Record 31 of set 7|agirish\n",
      "Processing Record 32 of set 7|ratnagiri\n",
      "Processing Record 33 of set 7|hamilton\n",
      "Processing Record 34 of set 7|santa maria\n",
      "Processing Record 35 of set 7|tazovskiy\n",
      "Processing Record 36 of set 7|andenes\n",
      "Processing Record 37 of set 7|barcelona\n",
      "City not found. Skipping... \n",
      "Processing Record 38 of set 7|usinsk\n",
      "Processing Record 39 of set 7|aksarka\n",
      "Processing Record 40 of set 7|alto araguaia\n",
      "Processing Record 41 of set 7|porto novo\n",
      "Processing Record 42 of set 7|salinopolis\n",
      "Processing Record 43 of set 7|jalu\n",
      "Processing Record 44 of set 7|havelock\n",
      "Processing Record 45 of set 7|okakarara\n",
      "Processing Record 46 of set 7|takoradi\n",
      "Processing Record 47 of set 7|kishtwar\n",
      "Processing Record 48 of set 7|albany\n",
      "Processing Record 49 of set 7|santa catalina\n",
      "Processing Record 50 of set 7|saint-francois\n",
      "Processing Record 1 of set 8|pokhara\n",
      "Processing Record 2 of set 8|borba\n",
      "Processing Record 3 of set 8|murgab\n",
      "Processing Record 4 of set 8|konevo\n",
      "Processing Record 5 of set 8|vredendal\n",
      "Processing Record 6 of set 8|sainte-maxime\n",
      "Processing Record 7 of set 8|dabola\n",
      "Processing Record 8 of set 8|itigi\n",
      "Processing Record 9 of set 8|ondjiva\n",
      "Processing Record 10 of set 8|soyo\n",
      "Processing Record 11 of set 8|iralaya\n",
      "Processing Record 12 of set 8|gacko\n",
      "Processing Record 13 of set 8|iqaluit\n",
      "Processing Record 14 of set 8|povenets\n",
      "Processing Record 15 of set 8|elliot\n",
      "Processing Record 16 of set 8|fairhope\n",
      "City not found. Skipping... \n",
      "Processing Record 17 of set 8|svetlyy\n",
      "Processing Record 18 of set 8|waddan\n",
      "Processing Record 19 of set 8|corner brook\n",
      "Processing Record 20 of set 8|mindelo\n",
      "Processing Record 21 of set 8|palma di montechiaro\n",
      "Processing Record 22 of set 8|dire\n",
      "Processing Record 23 of set 8|zhizdra\n",
      "Processing Record 24 of set 8|islahiye\n",
      "Processing Record 25 of set 8|kachiry\n",
      "Processing Record 26 of set 8|karpathos\n",
      "Processing Record 27 of set 8|torit\n",
      "Processing Record 28 of set 8|leamington\n",
      "Processing Record 29 of set 8|san lawrenz\n",
      "Processing Record 30 of set 8|bonthe\n",
      "Processing Record 31 of set 8|camocim\n",
      "Processing Record 32 of set 8|dzaoudzi\n",
      "Processing Record 33 of set 8|hashtrud\n",
      "Processing Record 34 of set 8|novoutkinsk\n",
      "Processing Record 35 of set 8|kerugoya\n",
      "Processing Record 36 of set 8|mlimba\n",
      "Processing Record 37 of set 8|sens\n",
      "Processing Record 38 of set 8|atbasar\n",
      "Processing Record 39 of set 8|lukuledi\n",
      "Processing Record 40 of set 8|carauari\n",
      "Processing Record 41 of set 8|nara\n",
      "City not found. Skipping... \n",
      "Processing Record 42 of set 8|bezhetsk\n",
      "Processing Record 43 of set 8|les cayes\n",
      "Processing Record 44 of set 8|port blair\n",
      "Processing Record 45 of set 8|bilma\n",
      "Processing Record 46 of set 8|castro\n"
     ]
    },
    {
     "name": "stdout",
     "output_type": "stream",
     "text": [
      "Processing Record 47 of set 8|richards bay\n",
      "Processing Record 48 of set 8|estreito\n",
      "Processing Record 49 of set 8|kutum\n",
      "Processing Record 50 of set 8|qasigiannguit\n",
      "Processing Record 1 of set 9|muros\n",
      "Processing Record 2 of set 9|pabbi\n",
      "Processing Record 3 of set 9|san andres\n",
      "Processing Record 4 of set 9|lyubech\n",
      "Processing Record 5 of set 9|iquique\n",
      "Processing Record 6 of set 9|uppsala\n",
      "Processing Record 7 of set 9|barsi\n",
      "Processing Record 8 of set 9|abu samrah\n",
      "Processing Record 9 of set 9|saquarema\n",
      "Processing Record 10 of set 9|stornoway\n",
      "Processing Record 11 of set 9|amapa\n",
      "Processing Record 12 of set 9|omboue\n",
      "Processing Record 13 of set 9|bauchi\n",
      "Processing Record 14 of set 9|hauzenberg\n",
      "Processing Record 15 of set 9|arlit\n",
      "Processing Record 16 of set 9|chicama\n",
      "Processing Record 17 of set 9|el dorado\n",
      "Processing Record 18 of set 9|beyneu\n",
      "Processing Record 19 of set 9|sao francisco de assis\n",
      "City not found. Skipping... \n",
      "Processing Record 20 of set 9|lodwar\n",
      "Processing Record 21 of set 9|liverpool\n",
      "Processing Record 22 of set 9|umm kaddadah\n",
      "Processing Record 23 of set 9|qostanay\n",
      "Processing Record 24 of set 9|praia\n",
      "City not found. Skipping... \n",
      "Processing Record 25 of set 9|sfantu gheorghe\n",
      "Processing Record 26 of set 9|dwarka\n",
      "Processing Record 27 of set 9|chapais\n",
      "Processing Record 28 of set 9|mantua\n",
      "Processing Record 29 of set 9|macapa\n",
      "Processing Record 30 of set 9|zhezkazgan\n",
      "Processing Record 31 of set 9|aksu\n",
      "Processing Record 32 of set 9|pimentel\n",
      "Processing Record 33 of set 9|nikel\n",
      "Processing Record 34 of set 9|northport\n",
      "Processing Record 35 of set 9|beloha\n",
      "Processing Record 36 of set 9|caraballeda\n",
      "Processing Record 37 of set 9|husavik\n",
      "Processing Record 38 of set 9|asyut\n",
      "Processing Record 39 of set 9|nalut\n",
      "City not found. Skipping... \n",
      "Processing Record 40 of set 9|domoni\n",
      "Processing Record 41 of set 9|puerto leguizamo\n",
      "Processing Record 42 of set 9|kasongo\n",
      "Processing Record 43 of set 9|aswan\n",
      "Processing Record 44 of set 9|hwange\n",
      "Processing Record 45 of set 9|nikaia\n",
      "Processing Record 46 of set 9|saint-georges\n",
      "Processing Record 47 of set 9|lauro muller\n",
      "Processing Record 48 of set 9|san luis\n",
      "Processing Record 49 of set 9|ambilobe\n",
      "Processing Record 50 of set 9|avrille\n",
      "Processing Record 1 of set 10|tabora\n",
      "Processing Record 2 of set 10|paris\n",
      "Processing Record 3 of set 10|hobyo\n",
      "Processing Record 4 of set 10|ilam\n",
      "Processing Record 5 of set 10|ginir\n",
      "Processing Record 6 of set 10|tres arroyos\n",
      "Processing Record 7 of set 10|llanes\n",
      "Processing Record 8 of set 10|bonavista\n",
      "City not found. Skipping... \n",
      "Processing Record 9 of set 10|oyon\n",
      "Processing Record 10 of set 10|altay\n",
      "Processing Record 11 of set 10|kirillov\n",
      "Processing Record 12 of set 10|svetlogorsk\n",
      "City not found. Skipping... \n",
      "Processing Record 13 of set 10|lukovetskiy\n",
      "Processing Record 14 of set 10|uruguaiana\n",
      "Processing Record 15 of set 10|guhagar\n",
      "Processing Record 16 of set 10|pangnirtung\n",
      "Processing Record 17 of set 10|baghmara\n",
      "Processing Record 18 of set 10|isla mujeres\n",
      "Processing Record 19 of set 10|abonnema\n",
      "Processing Record 20 of set 10|qaqortoq\n",
      "Processing Record 21 of set 10|hammerfest\n",
      "Processing Record 22 of set 10|mezen\n",
      "Processing Record 23 of set 10|inhambane\n",
      "Processing Record 24 of set 10|saurimo\n",
      "Processing Record 25 of set 10|carballo\n",
      "Processing Record 26 of set 10|los algarrobos\n",
      "City not found. Skipping... \n",
      "Processing Record 27 of set 10|horodyshche\n",
      "Processing Record 28 of set 10|venezuela\n",
      "Processing Record 29 of set 10|port hawkesbury\n",
      "City not found. Skipping... \n",
      "Processing Record 30 of set 10|orbetello\n",
      "Processing Record 31 of set 10|blagoyevo\n",
      "Processing Record 32 of set 10|serdobsk\n",
      "Processing Record 33 of set 10|luba\n",
      "Processing Record 34 of set 10|calvinia\n",
      "Processing Record 35 of set 10|mogadishu\n",
      "Processing Record 36 of set 10|moa\n",
      "Processing Record 37 of set 10|gat\n",
      "Processing Record 38 of set 10|tessalit\n",
      "Processing Record 39 of set 10|bohdan\n",
      "Processing Record 40 of set 10|marion\n",
      "Processing Record 41 of set 10|alta floresta\n",
      "Processing Record 42 of set 10|codroipo\n",
      "Processing Record 43 of set 10|paamiut\n",
      "Processing Record 44 of set 10|itarema\n",
      "Processing Record 45 of set 10|aden\n",
      "Processing Record 46 of set 10|taraz\n",
      "Processing Record 47 of set 10|iranshahr\n",
      "Processing Record 48 of set 10|alakurtti\n",
      "Processing Record 49 of set 10|afua\n",
      "City not found. Skipping... \n",
      "Processing Record 50 of set 10|gornopravdinsk\n",
      "Processing Record 1 of set 11|vieques\n",
      "Processing Record 2 of set 11|longonjo\n",
      "Processing Record 3 of set 11|tempio pausania\n",
      "Processing Record 4 of set 11|marawi\n",
      "Processing Record 5 of set 11|nantucket\n",
      "Processing Record 6 of set 11|moose factory\n",
      "Processing Record 7 of set 11|vagur\n",
      "Processing Record 8 of set 11|gorodovikovsk\n",
      "Processing Record 9 of set 11|padang\n",
      "Processing Record 10 of set 11|mugur-aksy\n",
      "Processing Record 11 of set 11|conceicao do coite\n",
      "Processing Record 12 of set 11|longavi\n",
      "Processing Record 13 of set 11|bulungu\n",
      "Processing Record 14 of set 11|staraya mayna\n",
      "Processing Record 15 of set 11|vilhena\n",
      "Processing Record 16 of set 11|mecca\n",
      "City not found. Skipping... \n",
      "Processing Record 17 of set 11|rognan\n",
      "Processing Record 18 of set 11|yarmouth\n",
      "Processing Record 19 of set 11|bodden town\n",
      "Processing Record 20 of set 11|arzachena\n",
      "Processing Record 21 of set 11|kiruna\n",
      "Processing Record 22 of set 11|puerto del rosario\n",
      "Processing Record 23 of set 11|oranjemund\n",
      "Processing Record 24 of set 11|georgiyevka\n",
      "Processing Record 25 of set 11|malinovoye ozero\n",
      "Processing Record 26 of set 11|djenne\n",
      "Processing Record 27 of set 11|sikonge\n",
      "Processing Record 28 of set 11|bahia honda\n",
      "Processing Record 29 of set 11|elat\n",
      "Processing Record 30 of set 11|klaksvik\n",
      "Processing Record 31 of set 11|derzhavinsk\n",
      "Processing Record 32 of set 11|cap malheureux\n",
      "Processing Record 33 of set 11|malmyzh\n",
      "Processing Record 34 of set 11|humaita\n",
      "Processing Record 35 of set 11|tornio\n",
      "Processing Record 36 of set 11|nampula\n",
      "Processing Record 37 of set 11|uvaly\n",
      "Processing Record 38 of set 11|aduturai\n",
      "Processing Record 39 of set 11|teguldet\n",
      "Processing Record 40 of set 11|ambalavao\n",
      "Processing Record 41 of set 11|kristiinankaupunki\n",
      "Processing Record 42 of set 11|mozelos\n",
      "Processing Record 43 of set 11|puerto maldonado\n",
      "Processing Record 44 of set 11|san martin\n",
      "City not found. Skipping... \n",
      "Processing Record 45 of set 11|tandil\n",
      "Processing Record 46 of set 11|killybegs\n",
      "Processing Record 47 of set 11|belmonte\n",
      "Processing Record 48 of set 11|lundazi\n",
      "Processing Record 49 of set 11|muisne\n",
      "Processing Record 50 of set 11|buenos aires\n",
      "Processing Record 1 of set 12|conde\n",
      "Processing Record 2 of set 12|tahoua\n",
      "Processing Record 3 of set 12|herat\n",
      "Processing Record 4 of set 12|duzce\n",
      "Processing Record 5 of set 12|bukama\n",
      "Processing Record 6 of set 12|presidencia roque saenz pena\n",
      "Processing Record 7 of set 12|fasa\n",
      "Processing Record 8 of set 12|luena\n",
      "Processing Record 9 of set 12|chuka\n",
      "Processing Record 10 of set 12|yokadouma\n",
      "Processing Record 11 of set 12|khurai\n",
      "Processing Record 12 of set 12|mwingi\n",
      "Processing Record 13 of set 12|manjacaze\n",
      "Processing Record 14 of set 12|ossining\n",
      "------------------------\n",
      "Data Retrieval Complete \n",
      "------------------------\n"
     ]
    }
   ],
   "source": [
    "#Empty Lists\n",
    "x=1\n",
    "count=1\n",
    "city_df=[]\n",
    "lat=[] \n",
    "long=[]\n",
    "Max_Temp=[]\n",
    "Humidity=[]\n",
    "Cloudiness=[]\n",
    "Wind_Speed=[]\n",
    "Country=[]\n",
    "Date=[]\n",
    "\n",
    "\n",
    "#Base line information\n",
    "url= f\"http://api.openweathermap.org/data/2.5/weather?units=Imperial&appid={weather_api_key}&q=\"\n",
    "city_responses= [ ]\n",
    "\n",
    "#Beggining Print\n",
    "print(\"Beginning Data Retrieval\")\n",
    "print(\"------------------------\")\n",
    "\n",
    "#for loop to make a api request for each city. \n",
    "for city in cities:\n",
    "    if x >= 51: \n",
    "        count+= 1\n",
    "        x=1\n",
    "    try:\n",
    "        city_data=requests.get(url + city).json()\n",
    "        city_df.append(city_data['name'])\n",
    "        lat.append(city_data['coord']['lat'])\n",
    "        long.append(city_data['coord']['lon'])\n",
    "        Max_Temp.append(city_data['main']['temp_max'])\n",
    "        Humidity.append(city_data['main'][\"humidity\"])\n",
    "        Cloudiness.append(city_data[\"clouds\"]['all'])\n",
    "        Wind_Speed.append(city_data[\"wind\"]['speed'])\n",
    "        Country.append(city_data['sys']['country'])\n",
    "        Date.append(city_data['dt'])\n",
    "        city_responses.append(city_data)\n",
    "        print(f\"Processing Record {x} of set {count}|{city}\")\n",
    "        x+=1\n",
    "    except: \n",
    "        print(\"City not found. Skipping... \")\n",
    "        \n",
    "#Final Print\n",
    "print(\"------------------------\")\n",
    "print(\"Data Retrieval Complete \")\n",
    "print(\"------------------------\")"
   ]
  },
  {
   "cell_type": "code",
   "execution_count": null,
   "metadata": {},
   "outputs": [],
   "source": [
    "# #Base line information\n",
    "# url= f\"http://api.openweathermap.org/data/2.5/weather?units=Imperial&appid={weather_api_key}&q=\"\n",
    "# city_responses= [ ]\n",
    "\n",
    "# #Beggining Print\n",
    "# print(\"Beginning Data Retrieval\")\n",
    "# print(\"------------------------\")\n",
    "# print(url)\n",
    "\n",
    "# for loop to make a api request for each city. \n",
    "# for city in cities:\n",
    "#     print(city)\n",
    "#     if index_counter >= 49: \n",
    "#         index_counter = 0\n",
    "#         set_counter = set_counter + 1\n",
    "        \n",
    "#     try:\n",
    "#         city_data=requests.get(url + city).json()\n",
    "#         print(requests.status)\n",
    "#         city_df.append(city_data['name'])\n",
    "#         lat.append(city_data['coord']['lat'])\n",
    "#         long.append(city_data['coord']['lon'])\n",
    "#         Max_Temp.append(city_data['main']['temp_max'])\n",
    "#         Humidity.append(city_data['main'][\"humidity\"])\n",
    "#         Cloudiness.append(city_data[\"clouds\"]['all'])\n",
    "#         Wind_Speed.append(city_data[\"wind\"]['speed'])\n",
    "#         Country.append(city_data['sys']['country'])\n",
    "#         Date.append(city_data['dt'])\n",
    "#         city_responses.append(city_data)\n",
    "#         print(f\"Processing Record {x} of set {count}|{city}\")\n",
    "#         x+=1\n",
    "#     except: \n",
    "#         print(\"City not found. Skipping... \")\n",
    "        \n",
    "# #Final Print\n",
    "# print(\"------------------------\")\n",
    "# print(\"Data Retrieval Complete \")\n",
    "# print(\"------------------------\")\n",
    "\n"
   ]
  },
  {
   "cell_type": "markdown",
   "metadata": {},
   "source": [
    "### Convert Raw Data to DataFrame\n",
    "* Export the city data into a .csv.\n",
    "* Display the DataFrame"
   ]
  },
  {
   "cell_type": "code",
   "execution_count": 12,
   "metadata": {},
   "outputs": [
    {
     "data": {
      "text/plain": [
       "City          564\n",
       "Lat           564\n",
       "Lng           564\n",
       "Max Temp      564\n",
       "Humidity      564\n",
       "Cloudiness    564\n",
       "Wind Speed    564\n",
       "Country       564\n",
       "Date          564\n",
       "dtype: int64"
      ]
     },
     "execution_count": 12,
     "metadata": {},
     "output_type": "execute_result"
    }
   ],
   "source": [
    "weather_df=pd.DataFrame({\"City\": city_df, \"Lat\": lat, \"Lng\": long, \n",
    "                      \"Max Temp\": Max_Temp, \"Humidity\": Humidity, \n",
    "                      \"Cloudiness\":Cloudiness, \"Wind Speed\": Wind_Speed,\n",
    "                     \"Country\": Country, \"Date\": Date})\n",
    "\n",
    "weather_df.head(5)\n",
    "\n",
    "# Creating a DataFrame from dictionary\n",
    "weather_data = pd.DataFrame(weather_df)\n",
    "\n",
    "# Display count of weather data values \n",
    "weather_data.count()"
   ]
  },
  {
   "cell_type": "code",
   "execution_count": 13,
   "metadata": {},
   "outputs": [],
   "source": [
    "# Saving the DataFrame to .csv File \n",
    "weather_df.to_csv(\"Output_Data_File/cities.csv\", index = False)"
   ]
  },
  {
   "cell_type": "code",
   "execution_count": 14,
   "metadata": {},
   "outputs": [
    {
     "data": {
      "text/html": [
       "<div>\n",
       "<style scoped>\n",
       "    .dataframe tbody tr th:only-of-type {\n",
       "        vertical-align: middle;\n",
       "    }\n",
       "\n",
       "    .dataframe tbody tr th {\n",
       "        vertical-align: top;\n",
       "    }\n",
       "\n",
       "    .dataframe thead th {\n",
       "        text-align: right;\n",
       "    }\n",
       "</style>\n",
       "<table border=\"1\" class=\"dataframe\">\n",
       "  <thead>\n",
       "    <tr style=\"text-align: right;\">\n",
       "      <th></th>\n",
       "      <th>Lat</th>\n",
       "      <th>Lng</th>\n",
       "      <th>Max Temp</th>\n",
       "      <th>Humidity</th>\n",
       "      <th>Cloudiness</th>\n",
       "      <th>Wind Speed</th>\n",
       "      <th>Date</th>\n",
       "    </tr>\n",
       "  </thead>\n",
       "  <tbody>\n",
       "    <tr>\n",
       "      <th>count</th>\n",
       "      <td>564.000000</td>\n",
       "      <td>564.000000</td>\n",
       "      <td>564.000000</td>\n",
       "      <td>564.000000</td>\n",
       "      <td>564.000000</td>\n",
       "      <td>564.000000</td>\n",
       "      <td>5.640000e+02</td>\n",
       "    </tr>\n",
       "    <tr>\n",
       "      <th>mean</th>\n",
       "      <td>20.291720</td>\n",
       "      <td>2.570195</td>\n",
       "      <td>59.064433</td>\n",
       "      <td>76.315603</td>\n",
       "      <td>51.753546</td>\n",
       "      <td>7.184220</td>\n",
       "      <td>1.603332e+09</td>\n",
       "    </tr>\n",
       "    <tr>\n",
       "      <th>std</th>\n",
       "      <td>32.119283</td>\n",
       "      <td>54.742908</td>\n",
       "      <td>17.860818</td>\n",
       "      <td>20.572094</td>\n",
       "      <td>39.476835</td>\n",
       "      <td>5.107117</td>\n",
       "      <td>2.011840e+02</td>\n",
       "    </tr>\n",
       "    <tr>\n",
       "      <th>min</th>\n",
       "      <td>-54.800000</td>\n",
       "      <td>-121.660000</td>\n",
       "      <td>12.200000</td>\n",
       "      <td>10.000000</td>\n",
       "      <td>0.000000</td>\n",
       "      <td>0.110000</td>\n",
       "      <td>1.603331e+09</td>\n",
       "    </tr>\n",
       "    <tr>\n",
       "      <th>25%</th>\n",
       "      <td>-6.307500</td>\n",
       "      <td>-52.322500</td>\n",
       "      <td>46.972500</td>\n",
       "      <td>67.750000</td>\n",
       "      <td>5.000000</td>\n",
       "      <td>3.360000</td>\n",
       "      <td>1.603332e+09</td>\n",
       "    </tr>\n",
       "    <tr>\n",
       "      <th>50%</th>\n",
       "      <td>22.485000</td>\n",
       "      <td>14.020000</td>\n",
       "      <td>62.610000</td>\n",
       "      <td>82.000000</td>\n",
       "      <td>56.000000</td>\n",
       "      <td>5.820000</td>\n",
       "      <td>1.603332e+09</td>\n",
       "    </tr>\n",
       "    <tr>\n",
       "      <th>75%</th>\n",
       "      <td>48.437500</td>\n",
       "      <td>42.890000</td>\n",
       "      <td>73.695000</td>\n",
       "      <td>93.000000</td>\n",
       "      <td>90.000000</td>\n",
       "      <td>9.757500</td>\n",
       "      <td>1.603332e+09</td>\n",
       "    </tr>\n",
       "    <tr>\n",
       "      <th>max</th>\n",
       "      <td>78.220000</td>\n",
       "      <td>141.970000</td>\n",
       "      <td>89.600000</td>\n",
       "      <td>100.000000</td>\n",
       "      <td>100.000000</td>\n",
       "      <td>28.860000</td>\n",
       "      <td>1.603332e+09</td>\n",
       "    </tr>\n",
       "  </tbody>\n",
       "</table>\n",
       "</div>"
      ],
      "text/plain": [
       "              Lat         Lng    Max Temp    Humidity  Cloudiness  Wind Speed  \\\n",
       "count  564.000000  564.000000  564.000000  564.000000  564.000000  564.000000   \n",
       "mean    20.291720    2.570195   59.064433   76.315603   51.753546    7.184220   \n",
       "std     32.119283   54.742908   17.860818   20.572094   39.476835    5.107117   \n",
       "min    -54.800000 -121.660000   12.200000   10.000000    0.000000    0.110000   \n",
       "25%     -6.307500  -52.322500   46.972500   67.750000    5.000000    3.360000   \n",
       "50%     22.485000   14.020000   62.610000   82.000000   56.000000    5.820000   \n",
       "75%     48.437500   42.890000   73.695000   93.000000   90.000000    9.757500   \n",
       "max     78.220000  141.970000   89.600000  100.000000  100.000000   28.860000   \n",
       "\n",
       "               Date  \n",
       "count  5.640000e+02  \n",
       "mean   1.603332e+09  \n",
       "std    2.011840e+02  \n",
       "min    1.603331e+09  \n",
       "25%    1.603332e+09  \n",
       "50%    1.603332e+09  \n",
       "75%    1.603332e+09  \n",
       "max    1.603332e+09  "
      ]
     },
     "execution_count": 14,
     "metadata": {},
     "output_type": "execute_result"
    }
   ],
   "source": [
    "# Describing the Weather Data \n",
    "weather_df.describe()"
   ]
  },
  {
   "cell_type": "markdown",
   "metadata": {},
   "source": [
    "## Inspect the data and remove the cities where the humidity > 100%.\n",
    "----\n",
    "Skip this step if there are no cities that have humidity > 100%. "
   ]
  },
  {
   "cell_type": "code",
   "execution_count": 15,
   "metadata": {},
   "outputs": [
    {
     "data": {
      "text/html": [
       "<div>\n",
       "<style scoped>\n",
       "    .dataframe tbody tr th:only-of-type {\n",
       "        vertical-align: middle;\n",
       "    }\n",
       "\n",
       "    .dataframe tbody tr th {\n",
       "        vertical-align: top;\n",
       "    }\n",
       "\n",
       "    .dataframe thead th {\n",
       "        text-align: right;\n",
       "    }\n",
       "</style>\n",
       "<table border=\"1\" class=\"dataframe\">\n",
       "  <thead>\n",
       "    <tr style=\"text-align: right;\">\n",
       "      <th></th>\n",
       "      <th>Lat</th>\n",
       "      <th>Lng</th>\n",
       "      <th>Max Temp</th>\n",
       "      <th>Humidity</th>\n",
       "      <th>Cloudiness</th>\n",
       "      <th>Wind Speed</th>\n",
       "      <th>Date</th>\n",
       "    </tr>\n",
       "  </thead>\n",
       "  <tbody>\n",
       "    <tr>\n",
       "      <th>count</th>\n",
       "      <td>564.000000</td>\n",
       "      <td>564.000000</td>\n",
       "      <td>564.000000</td>\n",
       "      <td>564.000000</td>\n",
       "      <td>564.000000</td>\n",
       "      <td>564.000000</td>\n",
       "      <td>5.640000e+02</td>\n",
       "    </tr>\n",
       "    <tr>\n",
       "      <th>mean</th>\n",
       "      <td>20.291720</td>\n",
       "      <td>2.570195</td>\n",
       "      <td>59.064433</td>\n",
       "      <td>76.315603</td>\n",
       "      <td>51.753546</td>\n",
       "      <td>7.184220</td>\n",
       "      <td>1.603332e+09</td>\n",
       "    </tr>\n",
       "    <tr>\n",
       "      <th>std</th>\n",
       "      <td>32.119283</td>\n",
       "      <td>54.742908</td>\n",
       "      <td>17.860818</td>\n",
       "      <td>20.572094</td>\n",
       "      <td>39.476835</td>\n",
       "      <td>5.107117</td>\n",
       "      <td>2.011840e+02</td>\n",
       "    </tr>\n",
       "    <tr>\n",
       "      <th>min</th>\n",
       "      <td>-54.800000</td>\n",
       "      <td>-121.660000</td>\n",
       "      <td>12.200000</td>\n",
       "      <td>10.000000</td>\n",
       "      <td>0.000000</td>\n",
       "      <td>0.110000</td>\n",
       "      <td>1.603331e+09</td>\n",
       "    </tr>\n",
       "    <tr>\n",
       "      <th>25%</th>\n",
       "      <td>-6.307500</td>\n",
       "      <td>-52.322500</td>\n",
       "      <td>46.972500</td>\n",
       "      <td>67.750000</td>\n",
       "      <td>5.000000</td>\n",
       "      <td>3.360000</td>\n",
       "      <td>1.603332e+09</td>\n",
       "    </tr>\n",
       "    <tr>\n",
       "      <th>50%</th>\n",
       "      <td>22.485000</td>\n",
       "      <td>14.020000</td>\n",
       "      <td>62.610000</td>\n",
       "      <td>82.000000</td>\n",
       "      <td>56.000000</td>\n",
       "      <td>5.820000</td>\n",
       "      <td>1.603332e+09</td>\n",
       "    </tr>\n",
       "    <tr>\n",
       "      <th>75%</th>\n",
       "      <td>48.437500</td>\n",
       "      <td>42.890000</td>\n",
       "      <td>73.695000</td>\n",
       "      <td>93.000000</td>\n",
       "      <td>90.000000</td>\n",
       "      <td>9.757500</td>\n",
       "      <td>1.603332e+09</td>\n",
       "    </tr>\n",
       "    <tr>\n",
       "      <th>max</th>\n",
       "      <td>78.220000</td>\n",
       "      <td>141.970000</td>\n",
       "      <td>89.600000</td>\n",
       "      <td>100.000000</td>\n",
       "      <td>100.000000</td>\n",
       "      <td>28.860000</td>\n",
       "      <td>1.603332e+09</td>\n",
       "    </tr>\n",
       "  </tbody>\n",
       "</table>\n",
       "</div>"
      ],
      "text/plain": [
       "              Lat         Lng    Max Temp    Humidity  Cloudiness  Wind Speed  \\\n",
       "count  564.000000  564.000000  564.000000  564.000000  564.000000  564.000000   \n",
       "mean    20.291720    2.570195   59.064433   76.315603   51.753546    7.184220   \n",
       "std     32.119283   54.742908   17.860818   20.572094   39.476835    5.107117   \n",
       "min    -54.800000 -121.660000   12.200000   10.000000    0.000000    0.110000   \n",
       "25%     -6.307500  -52.322500   46.972500   67.750000    5.000000    3.360000   \n",
       "50%     22.485000   14.020000   62.610000   82.000000   56.000000    5.820000   \n",
       "75%     48.437500   42.890000   73.695000   93.000000   90.000000    9.757500   \n",
       "max     78.220000  141.970000   89.600000  100.000000  100.000000   28.860000   \n",
       "\n",
       "               Date  \n",
       "count  5.640000e+02  \n",
       "mean   1.603332e+09  \n",
       "std    2.011840e+02  \n",
       "min    1.603331e+09  \n",
       "25%    1.603332e+09  \n",
       "50%    1.603332e+09  \n",
       "75%    1.603332e+09  \n",
       "max    1.603332e+09  "
      ]
     },
     "execution_count": 15,
     "metadata": {},
     "output_type": "execute_result"
    }
   ],
   "source": [
    "#There is no data where humidity is over 100%\n",
    "weather_df[\"Humidity\"].max()\n",
    "\n",
    "#This is how I would create the dataframe though\n",
    "\n",
    "weather_df = weather_df[weather_df[\"Humidity\"]<= 100]\n",
    "\n",
    "weather_df.describe()"
   ]
  },
  {
   "cell_type": "code",
   "execution_count": 16,
   "metadata": {},
   "outputs": [
    {
     "data": {
      "text/plain": [
       "Int64Index([], dtype='int64')"
      ]
     },
     "execution_count": 16,
     "metadata": {},
     "output_type": "execute_result"
    }
   ],
   "source": [
    "#  Get the indices of cities that have humidity over 100%.\n",
    "indices = weather_df[weather_df['Humidity']>100].index\n",
    "indices"
   ]
  },
  {
   "cell_type": "code",
   "execution_count": 17,
   "metadata": {},
   "outputs": [
    {
     "data": {
      "text/html": [
       "<div>\n",
       "<style scoped>\n",
       "    .dataframe tbody tr th:only-of-type {\n",
       "        vertical-align: middle;\n",
       "    }\n",
       "\n",
       "    .dataframe tbody tr th {\n",
       "        vertical-align: top;\n",
       "    }\n",
       "\n",
       "    .dataframe thead th {\n",
       "        text-align: right;\n",
       "    }\n",
       "</style>\n",
       "<table border=\"1\" class=\"dataframe\">\n",
       "  <thead>\n",
       "    <tr style=\"text-align: right;\">\n",
       "      <th></th>\n",
       "      <th>City</th>\n",
       "      <th>Lat</th>\n",
       "      <th>Lng</th>\n",
       "      <th>Max Temp</th>\n",
       "      <th>Humidity</th>\n",
       "      <th>Cloudiness</th>\n",
       "      <th>Wind Speed</th>\n",
       "      <th>Country</th>\n",
       "      <th>Date</th>\n",
       "    </tr>\n",
       "  </thead>\n",
       "  <tbody>\n",
       "    <tr>\n",
       "      <th>0</th>\n",
       "      <td>Hambantota</td>\n",
       "      <td>6.12</td>\n",
       "      <td>81.12</td>\n",
       "      <td>77.00</td>\n",
       "      <td>100</td>\n",
       "      <td>40</td>\n",
       "      <td>4.70</td>\n",
       "      <td>LK</td>\n",
       "      <td>1603331810</td>\n",
       "    </tr>\n",
       "    <tr>\n",
       "      <th>1</th>\n",
       "      <td>Codrington</td>\n",
       "      <td>-38.27</td>\n",
       "      <td>141.97</td>\n",
       "      <td>61.21</td>\n",
       "      <td>68</td>\n",
       "      <td>65</td>\n",
       "      <td>6.76</td>\n",
       "      <td>AU</td>\n",
       "      <td>1603331559</td>\n",
       "    </tr>\n",
       "    <tr>\n",
       "      <th>2</th>\n",
       "      <td>Ushuaia</td>\n",
       "      <td>-54.80</td>\n",
       "      <td>-68.30</td>\n",
       "      <td>50.00</td>\n",
       "      <td>53</td>\n",
       "      <td>75</td>\n",
       "      <td>10.29</td>\n",
       "      <td>AR</td>\n",
       "      <td>1603331810</td>\n",
       "    </tr>\n",
       "    <tr>\n",
       "      <th>3</th>\n",
       "      <td>Cabedelo</td>\n",
       "      <td>-6.98</td>\n",
       "      <td>-34.83</td>\n",
       "      <td>77.00</td>\n",
       "      <td>94</td>\n",
       "      <td>75</td>\n",
       "      <td>5.82</td>\n",
       "      <td>BR</td>\n",
       "      <td>1603331810</td>\n",
       "    </tr>\n",
       "    <tr>\n",
       "      <th>4</th>\n",
       "      <td>Yar-Sale</td>\n",
       "      <td>66.83</td>\n",
       "      <td>70.83</td>\n",
       "      <td>19.33</td>\n",
       "      <td>97</td>\n",
       "      <td>91</td>\n",
       "      <td>12.86</td>\n",
       "      <td>RU</td>\n",
       "      <td>1603331811</td>\n",
       "    </tr>\n",
       "  </tbody>\n",
       "</table>\n",
       "</div>"
      ],
      "text/plain": [
       "         City    Lat     Lng  Max Temp  Humidity  Cloudiness  Wind Speed  \\\n",
       "0  Hambantota   6.12   81.12     77.00       100          40        4.70   \n",
       "1  Codrington -38.27  141.97     61.21        68          65        6.76   \n",
       "2     Ushuaia -54.80  -68.30     50.00        53          75       10.29   \n",
       "3    Cabedelo  -6.98  -34.83     77.00        94          75        5.82   \n",
       "4    Yar-Sale  66.83   70.83     19.33        97          91       12.86   \n",
       "\n",
       "  Country        Date  \n",
       "0      LK  1603331810  \n",
       "1      AU  1603331559  \n",
       "2      AR  1603331810  \n",
       "3      BR  1603331810  \n",
       "4      RU  1603331811  "
      ]
     },
     "execution_count": 17,
     "metadata": {},
     "output_type": "execute_result"
    }
   ],
   "source": [
    "# Make a new DataFrame equal to the city data to drop all humidity outliers by index.\n",
    "# Passing \"inplace=False\" will make a copy of the city_data DataFrame, which we call \"clean_city_data\".\n",
    "clean_weather_df = weather_data.drop(indices, inplace=False)\n",
    "clean_weather_df.head()"
   ]
  },
  {
   "cell_type": "code",
   "execution_count": null,
   "metadata": {},
   "outputs": [],
   "source": [
    "\n"
   ]
  },
  {
   "cell_type": "markdown",
   "metadata": {},
   "source": [
    "## Plotting the Data\n",
    "* Use proper labeling of the plots using plot titles (including date of analysis) and axes labels.\n",
    "* Save the plotted figures as .pngs."
   ]
  },
  {
   "cell_type": "markdown",
   "metadata": {},
   "source": [
    "## Latitude vs. Temperature Plot"
   ]
  },
  {
   "cell_type": "code",
   "execution_count": 20,
   "metadata": {
    "scrolled": true
   },
   "outputs": [
    {
     "data": {
      "image/png": "[encoded data removed]",
      "text/plain": [
       "<Figure size 432x288 with 1 Axes>"
      ]
     },
     "metadata": {
      "needs_background": "light"
     },
     "output_type": "display_data"
    }
   ],
   "source": [
    "latitude=weather_df[\"Lat\"]\n",
    "Max_Temp=weather_df[\"Max Temp\"]\n",
    "\n",
    "#Making Scatter Plot\n",
    "plt.scatter(latitude, Max_Temp, marker=\"o\", facecolors=\"orange\", edgecolors=\"black\")\n",
    "\n",
    "#Formatting\n",
    "plt.grid()\n",
    "plt.title(\"City Latitude vs Max Temperature 04/01/2020\")\n",
    "plt.xlabel(\"City Latitude\")\n",
    "plt.ylabel(\"Max Temperature\")\n",
    "plt.savefig(\"../output_data/LatvsTemp.png\")\n",
    "plt.show()"
   ]
  },
  {
   "cell_type": "markdown",
   "metadata": {},
   "source": [
    "## Latitude vs. Humidity Plot"
   ]
  },
  {
   "cell_type": "code",
   "execution_count": 21,
   "metadata": {},
   "outputs": [
    {
     "data": {
      "image/png": "[encoded data removed]",
      "text/plain": [
       "<Figure size 432x288 with 1 Axes>"
      ]
     },
     "metadata": {
      "needs_background": "light"
     },
     "output_type": "display_data"
    }
   ],
   "source": [
    "# Y = Humidity\n",
    "Humidity_data=weather_df[\"Humidity\"]\n",
    "\n",
    "#Making Scatter Plot\n",
    "plt.scatter(latitude, Humidity_data, marker=\"o\", facecolors=\"orange\", edgecolors=\"black\")\n",
    "\n",
    "#Formatting\n",
    "plt.grid()\n",
    "plt.title(\"City Latitude vs Humidity 04/01/2020\")\n",
    "plt.xlabel(\"City Latitude\")\n",
    "plt.ylabel(\"Humidity (%)\")\n",
    "\n",
    "#Saving the graph to a PNG\n",
    "plt.savefig(\"Output_Data_File/LatitudevsHumidity.png\")\n",
    "plt.show()"
   ]
  },
  {
   "cell_type": "markdown",
   "metadata": {},
   "source": [
    "## Latitude vs. Cloudiness Plot"
   ]
  },
  {
   "cell_type": "code",
   "execution_count": 22,
   "metadata": {},
   "outputs": [
    {
     "data": {
      "image/png": "[encoded data removed]",
      "text/plain": [
       "<Figure size 432x288 with 1 Axes>"
      ]
     },
     "metadata": {
      "needs_background": "light"
     },
     "output_type": "display_data"
    }
   ],
   "source": [
    "# Y = Cloudiness \n",
    "Cloud_Data=weather_df[\"Cloudiness\"]\n",
    "\n",
    "#Making Scatter Plot\n",
    "plt.scatter(latitude, Cloud_Data, marker=\"o\", facecolors=\"orange\", edgecolors=\"black\")\n",
    "\n",
    "#Formatting\n",
    "plt.grid()\n",
    "plt.title(\"City Latitude vs Cloudiness 04/01/2020\")\n",
    "plt.xlabel(\"City Latitude\")\n",
    "plt.ylabel(\"Cloudiness (%)\")\n",
    "\n",
    "#Saving the graph to a PNG\n",
    "plt.savefig(\"Output_Data_File/LatitudevsCloudiness.png\")\n",
    "plt.show()"
   ]
  },
  {
   "cell_type": "markdown",
   "metadata": {},
   "source": [
    "## Latitude vs. Wind Speed Plot"
   ]
  },
  {
   "cell_type": "code",
   "execution_count": 23,
   "metadata": {},
   "outputs": [
    {
     "data": {
      "image/png": "[encoded data removed]",
      "text/plain": [
       "<Figure size 432x288 with 1 Axes>"
      ]
     },
     "metadata": {
      "needs_background": "light"
     },
     "output_type": "display_data"
    }
   ],
   "source": [
    "# Y = Wind Speed \n",
    "Wind_Speed_Data=weather_df[\"Wind Speed\"]\n",
    "\n",
    "#Making Scatter Plot\n",
    "plt.scatter(latitude, Wind_Speed_Data, marker=\"o\", facecolors=\"orange\", edgecolors=\"black\")\n",
    "\n",
    "#Formatting\n",
    "plt.grid()\n",
    "plt.title(\"City Latitude vs Wind Speed 04/01/2020\")\n",
    "plt.xlabel(\"City Latitude\")\n",
    "plt.ylabel(\"Wind Speed (mph)\")\n",
    "plt.savefig(\"Output_Data_File/LatitudevsWindSpeed.png\")\n",
    "plt.show()"
   ]
  },
  {
   "cell_type": "markdown",
   "metadata": {},
   "source": [
    "## Linear Regression"
   ]
  },
  {
   "cell_type": "code",
   "execution_count": 24,
   "metadata": {},
   "outputs": [],
   "source": [
    "# Create Northern and Southern Hemisphere DataFrames\n",
    "Northern_df=weather_df[weather_df[\"Lat\"]>0]\n",
    "Southern_df=weather_df[weather_df[\"Lat\"]<0]"
   ]
  },
  {
   "cell_type": "markdown",
   "metadata": {},
   "source": [
    "####  Northern Hemisphere - Max Temp vs. Latitude Linear Regression"
   ]
  },
  {
   "cell_type": "code",
   "execution_count": 25,
   "metadata": {},
   "outputs": [
    {
     "data": {
      "image/png": "[encoded data removed]",
      "text/plain": [
       "<Figure size 432x288 with 1 Axes>"
      ]
     },
     "metadata": {
      "needs_background": "light"
     },
     "output_type": "display_data"
    },
    {
     "name": "stdout",
     "output_type": "stream",
     "text": [
      "The r-squared is: 0.7834843642328165\n"
     ]
    }
   ],
   "source": [
    "def plot_linear_regression(x,y,title,text_coordinates):\n",
    "    (slope, intercept,rvalue, pvalue, stderr)= linregress(x,y)\n",
    "    regress_values= x*slope + intercept\n",
    "    line_eq=f\"y={round(slope,2)}x + {round(intercept,2)}\"\n",
    "    plt.scatter(x, y, marker=\"o\", facecolors=\"blue\", edgecolors=\"black\")\n",
    "    plt.plot(x, regress_values, color='red')\n",
    "    plt.annotate(line_eq, text_coordinates, color='red', fontsize= 18)\n",
    "    plt.xlabel(\"Latitude\")\n",
    "    plt.ylabel(title)\n",
    "    plt.show()\n",
    "    print(f\"The r-squared is: {rvalue**2}\")\n",
    "    \n",
    "plot_linear_regression(Northern_df[\"Lat\"], Northern_df[\"Max Temp\"], \"Max Temp\",(10,20))\n"
   ]
  },
  {
   "cell_type": "markdown",
   "metadata": {},
   "source": [
    "####  Southern Hemisphere - Max Temp vs. Latitude Linear Regression"
   ]
  },
  {
   "cell_type": "code",
   "execution_count": 26,
   "metadata": {
    "scrolled": true
   },
   "outputs": [
    {
     "data": {
      "image/png": "[encoded data removed]",
      "text/plain": [
       "<Figure size 432x288 with 1 Axes>"
      ]
     },
     "metadata": {
      "needs_background": "light"
     },
     "output_type": "display_data"
    },
    {
     "name": "stdout",
     "output_type": "stream",
     "text": [
      "The r-squared is: 0.431807431256399\n"
     ]
    }
   ],
   "source": [
    "plot_linear_regression(Southern_df[\"Lat\"], Southern_df[\"Max Temp\"], \"Max Temp\",(-55,85))"
   ]
  },
  {
   "cell_type": "markdown",
   "metadata": {},
   "source": [
    "####  Northern Hemisphere - Humidity (%) vs. Latitude Linear Regression"
   ]
  },
  {
   "cell_type": "code",
   "execution_count": 27,
   "metadata": {},
   "outputs": [
    {
     "data": {
      "image/png": "[encoded data removed]",
      "text/plain": [
       "<Figure size 432x288 with 1 Axes>"
      ]
     },
     "metadata": {
      "needs_background": "light"
     },
     "output_type": "display_data"
    },
    {
     "name": "stdout",
     "output_type": "stream",
     "text": [
      "The r-squared is: 0.11162595025146428\n"
     ]
    }
   ],
   "source": [
    "plot_linear_regression(Northern_df[\"Lat\"], Northern_df[\"Humidity\"], \"Max Temp\",(50,12))"
   ]
  },
  {
   "cell_type": "markdown",
   "metadata": {},
   "source": [
    "####  Southern Hemisphere - Humidity (%) vs. Latitude Linear Regression"
   ]
  },
  {
   "cell_type": "code",
   "execution_count": 28,
   "metadata": {},
   "outputs": [
    {
     "data": {
      "image/png": "[encoded data removed]",
      "text/plain": [
       "<Figure size 432x288 with 1 Axes>"
      ]
     },
     "metadata": {
      "needs_background": "light"
     },
     "output_type": "display_data"
    },
    {
     "name": "stdout",
     "output_type": "stream",
     "text": [
      "The r-squared is: 0.09239329407267166\n"
     ]
    }
   ],
   "source": [
    "plot_linear_regression(Southern_df[\"Lat\"], Southern_df[\"Humidity\"], \"Max Temp\",(-55,20))"
   ]
  },
  {
   "cell_type": "markdown",
   "metadata": {},
   "source": [
    "####  Northern Hemisphere - Cloudiness (%) vs. Latitude Linear Regression"
   ]
  },
  {
   "cell_type": "code",
   "execution_count": 29,
   "metadata": {},
   "outputs": [
    {
     "data": {
      "image/png": "[encoded data removed]",
      "text/plain": [
       "<Figure size 432x288 with 1 Axes>"
      ]
     },
     "metadata": {
      "needs_background": "light"
     },
     "output_type": "display_data"
    },
    {
     "name": "stdout",
     "output_type": "stream",
     "text": [
      "The r-squared is: 0.11199303849383868\n"
     ]
    }
   ],
   "source": [
    "plot_linear_regression(Northern_df[\"Lat\"], Northern_df[\"Cloudiness\"], \"Max Temp\",(50,33))"
   ]
  },
  {
   "cell_type": "markdown",
   "metadata": {},
   "source": [
    "####  Southern Hemisphere - Cloudiness (%) vs. Latitude Linear Regression"
   ]
  },
  {
   "cell_type": "code",
   "execution_count": 30,
   "metadata": {},
   "outputs": [
    {
     "data": {
      "image/png": "[encoded data removed]",
      "text/plain": [
       "<Figure size 432x288 with 1 Axes>"
      ]
     },
     "metadata": {
      "needs_background": "light"
     },
     "output_type": "display_data"
    },
    {
     "name": "stdout",
     "output_type": "stream",
     "text": [
      "The r-squared is: 0.08509281049674626\n"
     ]
    }
   ],
   "source": [
    "plot_linear_regression(Southern_df[\"Lat\"], Southern_df[\"Cloudiness\"], \"Max Temp\",(-56,25))"
   ]
  },
  {
   "cell_type": "markdown",
   "metadata": {},
   "source": [
    "####  Northern Hemisphere - Wind Speed (mph) vs. Latitude Linear Regression"
   ]
  },
  {
   "cell_type": "code",
   "execution_count": 31,
   "metadata": {},
   "outputs": [
    {
     "data": {
      "image/png": "[encoded data removed]",
      "text/plain": [
       "<Figure size 432x288 with 1 Axes>"
      ]
     },
     "metadata": {
      "needs_background": "light"
     },
     "output_type": "display_data"
    },
    {
     "name": "stdout",
     "output_type": "stream",
     "text": [
      "The r-squared is: 0.05800120058227868\n"
     ]
    }
   ],
   "source": [
    "plot_linear_regression(Northern_df[\"Lat\"], Northern_df[\"Wind Speed\"], \"Max Temp\",(5,30))"
   ]
  },
  {
   "cell_type": "markdown",
   "metadata": {},
   "source": [
    "####  Southern Hemisphere - Wind Speed (mph) vs. Latitude Linear Regression"
   ]
  },
  {
   "cell_type": "code",
   "execution_count": 32,
   "metadata": {},
   "outputs": [
    {
     "data": {
      "image/png": "[encoded data removed]",
      "text/plain": [
       "<Figure size 432x288 with 1 Axes>"
      ]
     },
     "metadata": {
      "needs_background": "light"
     },
     "output_type": "display_data"
    },
    {
     "name": "stdout",
     "output_type": "stream",
     "text": [
      "The r-squared is: 0.11367477050874365\n"
     ]
    }
   ],
   "source": [
    "plot_linear_regression(Southern_df[\"Lat\"], Southern_df[\"Wind Speed\"], \"Max Temp\",(-56,13))"
   ]
  },
  {
   "cell_type": "code",
   "execution_count": null,
   "metadata": {},
   "outputs": [],
   "source": []
  }
 ],
 "metadata": {
  "anaconda-cloud": {},
  "kernel_info": {
   "name": "python3"
  },
  "kernelspec": {
   "display_name": "Python [conda env:PythonData] *",
   "language": "python",
   "name": "conda-env-PythonData-py"
  },
  "language_info": {
   "codemirror_mode": {
    "name": "ipython",
    "version": 3
   },
   "file_extension": ".py",
   "mimetype": "text/x-python",
   "name": "python",
   "nbconvert_exporter": "python",
   "pygments_lexer": "ipython3",
   "version": "3.6.12"
  },
  "latex_envs": {
   "LaTeX_envs_menu_present": true,
   "autoclose": false,
   "autocomplete": true,
   "bibliofile": "biblio.bib",
   "cite_by": "apalike",
   "current_citInitial": 1,
   "eqLabelWithNumbers": true,
   "eqNumInitial": 1,
   "hotkeys": {
    "equation": "Ctrl-E",
    "itemize": "Ctrl-I"
   },
   "labels_anchors": false,
   "latex_user_defs": false,
   "report_style_numbering": false,
   "user_envs_cfg": false
  },
  "nteract": {
   "version": "0.12.3"
  }
 },
 "nbformat": 4,
 "nbformat_minor": 2
}
