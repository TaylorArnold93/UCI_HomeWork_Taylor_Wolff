{
 "cells": [
  {
   "cell_type": "code",
   "execution_count": 1,
   "metadata": {},
   "outputs": [],
   "source": [
    "# importing for .py\n",
    "import sqlalchemy\n",
    "from sqlalchemy.ext.automap import automap_base\n",
    "from sqlalchemy.orm import Session\n",
    "from sqlalchemy import create_engine, func\n",
    "from flask import Flask, jsonify\n",
    "import datetime as dt \n",
    "import numpy as np \n",
    "import pandas as pd "
   ]
  },
  {
   "cell_type": "code",
   "execution_count": 2,
   "metadata": {},
   "outputs": [],
   "source": [
    "#connecting to the engine\n",
    "engine =create_engine(\"sqlite:///Resources/hawaii.sqlite\", echo=False)"
   ]
  },
  {
   "cell_type": "code",
   "execution_count": 3,
   "metadata": {},
   "outputs": [
    {
     "data": {
      "text/plain": [
       "['measurement', 'station']"
      ]
     },
     "execution_count": 3,
     "metadata": {},
     "output_type": "execute_result"
    }
   ],
   "source": [
    "# Looking at the Base Database \n",
    "Base = automap_base()\n",
    "Base.prepare(engine, reflect=True)\n",
    "Base.classes.keys()"
   ]
  },
  {
   "cell_type": "code",
   "execution_count": 4,
   "metadata": {},
   "outputs": [],
   "source": [
    "#Base tables of Station & Measurement\n",
    "Station = Base.classes.station\n",
    "Measurement = Base.classes.measurement"
   ]
  },
  {
   "cell_type": "code",
   "execution_count": 5,
   "metadata": {},
   "outputs": [],
   "source": [
    "# creating the session enguine\n",
    "session = Session(engine)"
   ]
  },
  {
   "cell_type": "code",
   "execution_count": 6,
   "metadata": {},
   "outputs": [],
   "source": [
    "# Using the Flask Setup\n",
    "app = Flask(__name__)"
   ]
  },
  {
   "cell_type": "code",
   "execution_count": 7,
   "metadata": {},
   "outputs": [],
   "source": [
    "# Setting the Flask Routes \n",
    "@app.route(\"/\")\n",
    "def main():\n",
    "# List all routes that are available\n",
    "    return (\n",
    "        f\"Available Routes:<br/>\"\n",
    "        f\"/api/v1.0/precipitation<br/>\"\n",
    "        f\"/api/v1.0/stations<br/>\"\n",
    "        f\"/api/v1.0/tobs<br/>\"\n",
    "        f\"/api/v1.0/<start><br/>\"\n",
    "        f\"/api/v1.0/<start>/<end>\"\n",
    "    )"
   ]
  },
  {
   "cell_type": "code",
   "execution_count": 8,
   "metadata": {},
   "outputs": [],
   "source": [
    "@app.route(\"/api/v1.0/precipitation\")\n",
    "def precipitation():\n",
    "# Convert the query results to a dictionary using date as the key and prcp as the value.\n",
    "# Return the JSON representation of your dictionary.\n",
    "    \"\"\"Return the JSON representation of your dictionary.\"\"\"\n",
    "    print(\"Received Precipitation API request.\")\n",
    "    \n",
    "    #Query of the Dates\n",
    "    max_date = session.query(func.max(func.strftime(\"%Y-%m-%d\", Measurement.date))).limit(5).all()\n",
    "    max_date_string = max_date[0][0]\n",
    "    max_date = dt.datetime.strptime(max_date_string, \"%Y-%m-%d\")\n",
    "\n",
    "    begin_date = max_date - dt.timedelta(365)\n",
    "\n",
    "    climate_precipitation_data = session.query(func.strftime(\"%Y-%m-%d\", Measurement.date), Measurement.prcp).\\\n",
    "        filter(func.strftime(\"%Y-%m-%d\", Measurement.date) >= begin_date).all()\n",
    "    \n",
    "    results_dict = {}\n",
    "    for result in climate_precipitation_data:\n",
    "        results_dict[result[0]] = result[1]\n",
    "    \n",
    "    return jsonify(results_dict)\n"
   ]
  },
  {
   "cell_type": "code",
   "execution_count": 9,
   "metadata": {},
   "outputs": [],
   "source": [
    "#Route to stations\n",
    "@app.route(\"/api/v1.0/stations\")\n",
    "def stations():\n",
    "\n",
    "# Return a JSON list of stations from the dataset.\n",
    "    \n",
    "    print(\"Received the station API request.\")\n",
    "\n",
    "    stations = session.query(Station).all()\n",
    "    \n",
    "    # Create a dictionary from the row data and append to a list of stations_list\n",
    "    station_list = []\n",
    "    for station in stations:\n",
    "        station_dict = {}\n",
    "        station_dict[\"id\"] = station.id\n",
    "        station_dict[\"station\"] = station.station\n",
    "        station_dict[\"name\"] = station.name\n",
    "        station_dict[\"latitude\"] = station.latitude\n",
    "        station_dict[\"longitude\"] = station.longitude\n",
    "        station_dict[\"elevation\"] = station.elevation\n",
    "        stations_list.append(station_dict)\n",
    "    \n",
    "    return jsonify(station_list)\n"
   ]
  },
  {
   "cell_type": "code",
   "execution_count": 10,
   "metadata": {},
   "outputs": [],
   "source": [
    "#Route to tobs (Temperature Observations)\n",
    "@app.route(\"/api/v1.0/tobs\")\n",
    "def tobs():\n",
    "\n",
    "    print (\"Recieved the tobs API requests.\")\n",
    "    #Query the dates and temperature observations of the most active station for the last year of data.\n",
    "    max_date = session.query(func.max(func.strftime(\"%Y-%m-%d\", Measurement.date))).limit(5).all()\n",
    "    max_date_string = max_date[0][0]\n",
    "    max_date = dt.datetime.strptime(max_date_string, \"%Y-%m-%d\")\n",
    "    \n",
    "    begin_date = max_date - dt.timedelta(365)\n",
    "\n",
    "    results = session.query(Measurement).\\\n",
    "        filter(func.strftime(\"%Y-%m-%d\", Measurement.date) >= begin_date).all()\n",
    "    \n",
    "    # Create a dictionary from the row data and append to a list of tobs_list\n",
    "    tobs_list = []\n",
    "    for result in results:\n",
    "        tobs_dict = {}\n",
    "        tobs_dict[\"date\"] = result.date\n",
    "        tobs_dict[\"station\"] = result.station\n",
    "        tobs_dict[\"tobs\"] = result.tobs\n",
    "        tobs_list.append(tobs_dict)\n",
    "    \n",
    "    return jsonify(tobs_list)"
   ]
  },
  {
   "cell_type": "code",
   "execution_count": 11,
   "metadata": {},
   "outputs": [],
   "source": [
    "# Route to <start>\n",
    "@app.route(\"/api/v1.0/<start>\")\n",
    "def start(start):\n",
    "\n",
    "    print(\"Received start date API request.\")\n",
    "\n",
    "    max_date = session.query(func.max(func.strftime(\"%Y-%m-%d\", Measurement.date))).limit(5).all()\n",
    "    max_date_string = max_date[0][0]\n",
    "    \n",
    "    #add temperatures\n",
    "    temps = calc_temps(start, max_date)\n",
    "\n",
    "    #create list\n",
    "    return_list = []\n",
    "    date_dict = {'start_date': start, 'end_date': max_date}\n",
    "    return_list.append(date_dict)\n",
    "    return_list.append({'Observation': 'TMIN', 'Temperature': temps[0][1]})\n",
    "    return_list.append({'Observation': 'TAVG', 'Temperature': temps[0][1]})\n",
    "    return_list.append({'Observation': 'TMAX', 'Temperature': temps[0][0]})\n",
    "\n",
    "    return jsonify(return_list)\n"
   ]
  },
  {
   "cell_type": "code",
   "execution_count": 12,
   "metadata": {
    "scrolled": true
   },
   "outputs": [
    {
     "name": "stdout",
     "output_type": "stream",
     "text": [
      " * Serving Flask app \"__main__\" (lazy loading)\n",
      " * Environment: production\n",
      "   WARNING: This is a development server. Do not use it in a production deployment.\n",
      "   Use a production WSGI server instead.\n",
      " * Debug mode: on\n"
     ]
    },
    {
     "name": "stderr",
     "output_type": "stream",
     "text": [
      " * Restarting with windowsapi reloader\n"
     ]
    },
    {
     "ename": "SystemExit",
     "evalue": "1",
     "output_type": "error",
     "traceback": [
      "An exception has occurred, use %tb to see the full traceback.\n",
      "\u001b[1;31mSystemExit\u001b[0m\u001b[1;31m:\u001b[0m 1\n"
     ]
    },
    {
     "name": "stderr",
     "output_type": "stream",
     "text": [
      "C:\\Users\\taylo\\anaconda3\\lib\\site-packages\\IPython\\core\\interactiveshell.py:3351: UserWarning: To exit: use 'exit', 'quit', or Ctrl-D.\n",
      "  warn(\"To exit: use 'exit', 'quit', or Ctrl-D.\", stacklevel=1)\n"
     ]
    }
   ],
   "source": [
    "@app.route(\"/api/v1.0/<start>/<end>\")\n",
    "def start_end(start, end):\n",
    "    \"\"\"Return a JSON list of the minimum temperature, the average temperature, and the max temperature for a given start or start-end range.\"\"\"\n",
    "\n",
    "    print(\"Received start date and end date api request.\")\n",
    "\n",
    "    #add temperatures\n",
    "    temps = calc_temps(start, end)\n",
    "\n",
    "    #create list\n",
    "    return_list = []\n",
    "    date_dict = {'start_date': start, 'end_date': end}\n",
    "    return_list.append(date_dict)\n",
    "    return_list.append({'Observation': 'TMIN', 'Temperature': temps[0][1]})\n",
    "    return_list.append({'Observation': 'TAVG', 'Temperature': temps[0][1]})\n",
    "    return_list.append({'Observation': 'TMAX', 'Temperature': temps[0][0]})\n",
    "\n",
    "    return jsonify(return_list)\n",
    "\n",
    "if __name__ == '__main__':\n",
    "    app.run(debug=True)\n"
   ]
  },
  {
   "cell_type": "code",
   "execution_count": null,
   "metadata": {},
   "outputs": [],
   "source": [
    "# References\n",
    "\n",
    "# Quickstart¶. (n.d.). Retrieved November 19, 2020, from https://flask.palletsprojects.com/en/1.1.x/quickstart/\n",
    "# SQLAlchemy. (n.d.). Retrieved November 19, 2020, from https://pypi.org/project/SQLAlchemy/"
   ]
  }
 ],
 "metadata": {
  "kernelspec": {
   "display_name": "Python [conda env:root]",
   "language": "python",
   "name": "conda-root-py"
  },
  "language_info": {
   "codemirror_mode": {
    "name": "ipython",
    "version": 3
   },
   "file_extension": ".py",
   "mimetype": "text/x-python",
   "name": "python",
   "nbconvert_exporter": "python",
   "pygments_lexer": "ipython3",
   "version": "3.8.3"
  }
 },
 "nbformat": 4,
 "nbformat_minor": 4
}
